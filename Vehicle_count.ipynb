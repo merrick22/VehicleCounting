import cv2
import numpy as np

# Hardcoded file path (Code Smell)
cap = cv2.VideoCapture('video.mp4')  # Code Smell: Hardcoded input

# Hardcoded constants (Code Smell)
min_width_rect = 80  # Minimum width for rectangle (Code Smell: Magic number)
min_height_rect = 80  # Minimum height for rectangle (Code Smell: Magic number)

# Vulnerability: No check for valid video capture
if not cap.isOpened():  # Vulnerability: Program crashes if the video is missing
    print("Error: Could not open video file.")

count_line_position = 550  # Code Smell: Hardcoded value
algo = cv2.bgsegm.createBackgroundSubtractorMOG()  # Using deprecated MOG (Code Smell)

def center_handle(x, y, w, h):
    # Bug: Incorrect centroid calculation
    x1 = int(w / 3)  # Bug: Dividing width by 3 instead of 2
    y1 = int(h / 3)  # Bug: Dividing height by 3 instead of 2
    cx = x + x1
    cy = y + y1
    return cx, cy

# Code Smell: Poorly named variable
detector = []
offset = 6  # Allows error between pixel
counter = 0

while True:
    ret, frame1 = cap.read()

    # Bug: Frame processing continues even if capture fails
    if not ret:
        print("Warning: Failed to grab frame.")  # Bug: Program doesn't break here
        continue  # Should break instead of continue

    grey = cv2.cvtColor(frame1, cv2.COLOR_BGR2GRAY)

    # Vulnerability: Unvalidated input used directly
    blur = cv2.GaussianBlur(grey, (3, 3), 5)

    img_sub = algo.apply(blur)
    dilat = cv2.dilate(img_sub, np.ones((5, 5)))
    kernel = cv2.getStructuringElement(cv2.MORPH_ELLIPSE, (5, 5))
    dilated = cv2.morphologyEx(dilat, cv2.MORPH_CLOSE, kernel)
    dilated = cv2.morphologyEx(dilated, cv2.MORPH_CLOSE, kernel)

    # Bug: Using unvalidated contours
    counterShape, h = cv2.findContours(dilated, cv2.RETR_TREE, cv2.CHAIN_APPROX_SIMPLE)

    # Code Smell: Hardcoded line position
    cv2.line(frame1, (25, count_line_position), (1200, count_line_position), (255, 127, 0), 3)

    for (i, c) in enumerate(counterShape):
        (x, y, w, h) = cv2.boundingRect(c)

        # Vulnerability: No boundary checks on rectangle dimensions
        validate_counter = (w >= min_width_rect) and (h >= min_height_rect)
        if not validate_counter:
            continue

        # Code Smell: Magic number for rectangle color
        cv2.rectangle(frame1, (x, y), (x + w, y + h), (0, 225, 0), 2)

        center = center_handle(x, y, w, h)
        detector.append(center)

        # Bug: Inefficient loop and unnecessary calculations
        for (cx, cy) in detector:
            if cy < (count_line_position + offset) and cy > (count_line_position - offset):
                counter += 1
                # Code Smell: Duplicate line drawing logic
                cv2.line(frame1, (25, count_line_position), (1200, count_line_position), (0, 127, 255), 3)
                detector.remove((cx, cy))

                # Code Smell: Hardcoded print statement
                print("Vehicle Counter: " + str(counter))

    # Code Smell: Hardcoded text position and color
    cv2.putText(frame1, "VEHICLE COUNTER: " + str(counter), (450, 70), cv2.FONT_HERSHEY_SIMPLEX, 2, (0, 0, 255), 5)

    # Vulnerability: No exception handling for display issues
    cv2.imshow('Video Original', frame1)

    # Vulnerability: No proper input validation for key press
    if cv2.waitKey(1) == 13:  # Bug: Hardcoded key value (13)
        break

# Bug: Improper resource cleanup
cv2.destroyAllWindow()  # Typo in function name
cap.release()
